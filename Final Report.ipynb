{
 "cells": [
  {
   "cell_type": "code",
   "execution_count": 1,
   "id": "bf6c4fad",
   "metadata": {},
   "outputs": [
    {
     "data": {
      "text/html": [
       "\n",
       "<style>\n",
       ".output_png {\n",
       "    display: table-cell;\n",
       "    text-align: center;\n",
       "    vertical-align: middle;\n",
       "}\n",
       "</style>\n"
      ],
      "text/plain": [
       "<IPython.core.display.HTML object>"
      ]
     },
     "execution_count": 1,
     "metadata": {},
     "output_type": "execute_result"
    }
   ],
   "source": [
    "# Getting the Libraries I Need\n",
    "import pandas as pd\n",
    "import numpy as np\n",
    "import seaborn as sns\n",
    "import scipy.stats as stats\n",
    "import matplotlib.pyplot as plt\n",
    "\n",
    "# Model Specific Libraries\n",
    "from sklearn.tree import DecisionTreeClassifier\n",
    "from sklearn.ensemble import RandomForestClassifier\n",
    "from sklearn.linear_model import LogisticRegression\n",
    "from sklearn.metrics import classification_report\n",
    "from sklearn.metrics import confusion_matrix\n",
    "\n",
    "# Turn Off Pink Boxes \n",
    "import warnings\n",
    "warnings.filterwarnings(\"ignore\")\n",
    "\n",
    "# Import my own \"wrangle\" Module \n",
    "import wrangle\n",
    "\n",
    "# Remove Limits On Viewing Dataframes\n",
    "pd.set_option('display.max_columns', None)\n",
    "\n",
    "# Centers my charts in the notebook\n",
    "from IPython.core.display import HTML\n",
    "HTML(\"\"\"\n",
    "<style>\n",
    ".output_png {\n",
    "    display: table-cell;\n",
    "    text-align: center;\n",
    "    vertical-align: middle;\n",
    "}\n",
    "</style>\n",
    "\"\"\")"
   ]
  },
  {
   "cell_type": "markdown",
   "id": "21b8436c",
   "metadata": {},
   "source": [
    "<img src=\"Images/telco.jpg\" alt=\"Telco Logo\" title=\"Telco Logo\" width=\"300\" height=\"300\" align=\"center\"/>\n",
    "    "
   ]
  },
  {
   "cell_type": "markdown",
   "id": "13b80711",
   "metadata": {},
   "source": [
    "<div align=\"center\">\n",
    "\n",
    "# Final Report title here\n",
    "\n",
    "<div align=\"center\">\n",
    "\n",
    "### by Jeanette Schulz 2021-11-29"
   ]
  },
  {
   "cell_type": "markdown",
   "id": "88ff9814",
   "metadata": {},
   "source": [
    "<hr style=\"border:2px solid blue\"> </hr>\n",
    "\n",
    "\n",
    "\n",
    "# Goals\n",
    "The goal of this report is to reduce churn in Telco. This project aims to discover features that may be related to churn, and use these discoveries to create a machine learning classification model that can predict if a customer is about to churn or not.\n",
    "\n",
    "<hr style=\"border:2px solid blue\"> </hr>\n",
    "\n",
    "# Planning\n",
    "1. Setup my repository environment (.gitignore, README.md)\n",
    "2. Import and test my wrangle functions\n",
    "3. Define an test at least two hypothesis’s \n",
    "4. Train and Evalutate three different classification models.\n",
    "5. Create a csv file with predictions, from the model that perfoms the best\n",
    "6. Report my conclusions and next steps in a presentation.\n",
    "\n",
    "<hr style=\"border:2px solid blue\"> </hr>\n",
    "\n",
    "# Executive Summary\n",
    "My Random Forest Model Precision was 90%, beating my Baseline accuracy of 73%.\n",
    "\n",
    "The data suggest monthly costs are too high, especially for month-to-month customers whom have Fiber Optic Internet. Lowering the cost or suggesting customers switch to DSL Internet would lower churn rate.\n",
    "\n",
    "\n",
    "<hr style=\"border:2px solid blue\"> </hr>\n",
    "\n",
    "# Acquiring the Data\n",
    "To acquire the Telco data, I used the telco_db in the Codeup SQL server, and selected all columns from the passengers table. \n",
    "> SELECT * FROM customers  \n",
    "> JOIN contract_types USING(contract_type_id)   \n",
    "> JOIN internet_service_types USING(internet_service_type_id)  \n",
    "> JOIN payment_types USING(payment_type_id)  \n",
    " "
   ]
  },
  {
   "cell_type": "code",
   "execution_count": 2,
   "id": "ca1e15e6",
   "metadata": {},
   "outputs": [
    {
     "data": {
      "text/html": [
       "<div>\n",
       "<style scoped>\n",
       "    .dataframe tbody tr th:only-of-type {\n",
       "        vertical-align: middle;\n",
       "    }\n",
       "\n",
       "    .dataframe tbody tr th {\n",
       "        vertical-align: top;\n",
       "    }\n",
       "\n",
       "    .dataframe thead th {\n",
       "        text-align: right;\n",
       "    }\n",
       "</style>\n",
       "<table border=\"1\" class=\"dataframe\">\n",
       "  <thead>\n",
       "    <tr style=\"text-align: right;\">\n",
       "      <th></th>\n",
       "      <th>payment_type_id</th>\n",
       "      <th>internet_service_type_id</th>\n",
       "      <th>contract_type_id</th>\n",
       "      <th>customer_id</th>\n",
       "      <th>gender</th>\n",
       "      <th>senior_citizen</th>\n",
       "      <th>partner</th>\n",
       "      <th>dependents</th>\n",
       "      <th>tenure</th>\n",
       "      <th>phone_service</th>\n",
       "      <th>multiple_lines</th>\n",
       "      <th>online_security</th>\n",
       "      <th>online_backup</th>\n",
       "      <th>device_protection</th>\n",
       "      <th>tech_support</th>\n",
       "      <th>streaming_tv</th>\n",
       "      <th>streaming_movies</th>\n",
       "      <th>paperless_billing</th>\n",
       "      <th>monthly_charges</th>\n",
       "      <th>total_charges</th>\n",
       "      <th>churn</th>\n",
       "      <th>contract_type</th>\n",
       "      <th>internet_service_type</th>\n",
       "      <th>payment_type</th>\n",
       "    </tr>\n",
       "  </thead>\n",
       "  <tbody>\n",
       "    <tr>\n",
       "      <th>0</th>\n",
       "      <td>2</td>\n",
       "      <td>1</td>\n",
       "      <td>3</td>\n",
       "      <td>0016-QLJIS</td>\n",
       "      <td>Female</td>\n",
       "      <td>0</td>\n",
       "      <td>Yes</td>\n",
       "      <td>Yes</td>\n",
       "      <td>65</td>\n",
       "      <td>Yes</td>\n",
       "      <td>Yes</td>\n",
       "      <td>Yes</td>\n",
       "      <td>Yes</td>\n",
       "      <td>Yes</td>\n",
       "      <td>Yes</td>\n",
       "      <td>Yes</td>\n",
       "      <td>Yes</td>\n",
       "      <td>Yes</td>\n",
       "      <td>90.45</td>\n",
       "      <td>5957.9</td>\n",
       "      <td>No</td>\n",
       "      <td>Two year</td>\n",
       "      <td>DSL</td>\n",
       "      <td>Mailed check</td>\n",
       "    </tr>\n",
       "    <tr>\n",
       "      <th>1</th>\n",
       "      <td>4</td>\n",
       "      <td>1</td>\n",
       "      <td>3</td>\n",
       "      <td>0017-DINOC</td>\n",
       "      <td>Male</td>\n",
       "      <td>0</td>\n",
       "      <td>No</td>\n",
       "      <td>No</td>\n",
       "      <td>54</td>\n",
       "      <td>No</td>\n",
       "      <td>No phone service</td>\n",
       "      <td>Yes</td>\n",
       "      <td>No</td>\n",
       "      <td>No</td>\n",
       "      <td>Yes</td>\n",
       "      <td>Yes</td>\n",
       "      <td>No</td>\n",
       "      <td>No</td>\n",
       "      <td>45.20</td>\n",
       "      <td>2460.55</td>\n",
       "      <td>No</td>\n",
       "      <td>Two year</td>\n",
       "      <td>DSL</td>\n",
       "      <td>Credit card (automatic)</td>\n",
       "    </tr>\n",
       "    <tr>\n",
       "      <th>2</th>\n",
       "      <td>3</td>\n",
       "      <td>1</td>\n",
       "      <td>3</td>\n",
       "      <td>0019-GFNTW</td>\n",
       "      <td>Female</td>\n",
       "      <td>0</td>\n",
       "      <td>No</td>\n",
       "      <td>No</td>\n",
       "      <td>56</td>\n",
       "      <td>No</td>\n",
       "      <td>No phone service</td>\n",
       "      <td>Yes</td>\n",
       "      <td>Yes</td>\n",
       "      <td>Yes</td>\n",
       "      <td>Yes</td>\n",
       "      <td>No</td>\n",
       "      <td>No</td>\n",
       "      <td>No</td>\n",
       "      <td>45.05</td>\n",
       "      <td>2560.1</td>\n",
       "      <td>No</td>\n",
       "      <td>Two year</td>\n",
       "      <td>DSL</td>\n",
       "      <td>Bank transfer (automatic)</td>\n",
       "    </tr>\n",
       "    <tr>\n",
       "      <th>3</th>\n",
       "      <td>4</td>\n",
       "      <td>1</td>\n",
       "      <td>3</td>\n",
       "      <td>0056-EPFBG</td>\n",
       "      <td>Male</td>\n",
       "      <td>0</td>\n",
       "      <td>Yes</td>\n",
       "      <td>Yes</td>\n",
       "      <td>20</td>\n",
       "      <td>No</td>\n",
       "      <td>No phone service</td>\n",
       "      <td>Yes</td>\n",
       "      <td>No</td>\n",
       "      <td>Yes</td>\n",
       "      <td>Yes</td>\n",
       "      <td>No</td>\n",
       "      <td>No</td>\n",
       "      <td>Yes</td>\n",
       "      <td>39.40</td>\n",
       "      <td>825.4</td>\n",
       "      <td>No</td>\n",
       "      <td>Two year</td>\n",
       "      <td>DSL</td>\n",
       "      <td>Credit card (automatic)</td>\n",
       "    </tr>\n",
       "    <tr>\n",
       "      <th>4</th>\n",
       "      <td>3</td>\n",
       "      <td>1</td>\n",
       "      <td>3</td>\n",
       "      <td>0078-XZMHT</td>\n",
       "      <td>Male</td>\n",
       "      <td>0</td>\n",
       "      <td>Yes</td>\n",
       "      <td>No</td>\n",
       "      <td>72</td>\n",
       "      <td>Yes</td>\n",
       "      <td>Yes</td>\n",
       "      <td>No</td>\n",
       "      <td>Yes</td>\n",
       "      <td>Yes</td>\n",
       "      <td>Yes</td>\n",
       "      <td>Yes</td>\n",
       "      <td>Yes</td>\n",
       "      <td>Yes</td>\n",
       "      <td>85.15</td>\n",
       "      <td>6316.2</td>\n",
       "      <td>No</td>\n",
       "      <td>Two year</td>\n",
       "      <td>DSL</td>\n",
       "      <td>Bank transfer (automatic)</td>\n",
       "    </tr>\n",
       "  </tbody>\n",
       "</table>\n",
       "</div>"
      ],
      "text/plain": [
       "   payment_type_id  internet_service_type_id  contract_type_id customer_id  \\\n",
       "0                2                         1                 3  0016-QLJIS   \n",
       "1                4                         1                 3  0017-DINOC   \n",
       "2                3                         1                 3  0019-GFNTW   \n",
       "3                4                         1                 3  0056-EPFBG   \n",
       "4                3                         1                 3  0078-XZMHT   \n",
       "\n",
       "   gender  senior_citizen partner dependents  tenure phone_service  \\\n",
       "0  Female               0     Yes        Yes      65           Yes   \n",
       "1    Male               0      No         No      54            No   \n",
       "2  Female               0      No         No      56            No   \n",
       "3    Male               0     Yes        Yes      20            No   \n",
       "4    Male               0     Yes         No      72           Yes   \n",
       "\n",
       "     multiple_lines online_security online_backup device_protection  \\\n",
       "0               Yes             Yes           Yes               Yes   \n",
       "1  No phone service             Yes            No                No   \n",
       "2  No phone service             Yes           Yes               Yes   \n",
       "3  No phone service             Yes            No               Yes   \n",
       "4               Yes              No           Yes               Yes   \n",
       "\n",
       "  tech_support streaming_tv streaming_movies paperless_billing  \\\n",
       "0          Yes          Yes              Yes               Yes   \n",
       "1          Yes          Yes               No                No   \n",
       "2          Yes           No               No                No   \n",
       "3          Yes           No               No               Yes   \n",
       "4          Yes          Yes              Yes               Yes   \n",
       "\n",
       "   monthly_charges total_charges churn contract_type internet_service_type  \\\n",
       "0            90.45        5957.9    No      Two year                   DSL   \n",
       "1            45.20       2460.55    No      Two year                   DSL   \n",
       "2            45.05        2560.1    No      Two year                   DSL   \n",
       "3            39.40         825.4    No      Two year                   DSL   \n",
       "4            85.15        6316.2    No      Two year                   DSL   \n",
       "\n",
       "                payment_type  \n",
       "0               Mailed check  \n",
       "1    Credit card (automatic)  \n",
       "2  Bank transfer (automatic)  \n",
       "3    Credit card (automatic)  \n",
       "4  Bank transfer (automatic)  "
      ]
     },
     "execution_count": 2,
     "metadata": {},
     "output_type": "execute_result"
    }
   ],
   "source": [
    "telco_df = wrangle.get_telco_data()\n",
    "telco_df.head()"
   ]
  },
  {
   "cell_type": "code",
   "execution_count": 3,
   "id": "8ed1074f",
   "metadata": {},
   "outputs": [
    {
     "data": {
      "text/plain": [
       "(7043, 24)"
      ]
     },
     "execution_count": 3,
     "metadata": {},
     "output_type": "execute_result"
    }
   ],
   "source": [
    "telco_df.shape"
   ]
  },
  {
   "cell_type": "markdown",
   "id": "d05bb569",
   "metadata": {},
   "source": [
    "<hr style=\"border:2px solid blue\"> </hr>\n",
    "\n",
    "# Preparing the Data\n",
    "\n",
    "\n",
    "To clean the data, I did the following:\n",
    "\n",
    "1. Convert the 11 unassigned Total Charges to zero:  \n",
    "Total charges are the cumulative sum of monthly charges. Since these Telco customers had not maid it through thier first month, I decided it was best to make these 11 unassigned Total Charges zero.\n",
    "\n",
    "\n",
    "2. Convert all Total Charges to a float dtype. \n",
    "\n",
    "\n",
    "3. Create dummy variables for all categorical columns, then concatenate them onto the dataframe.</b> \n",
    "\n",
    "\n",
    "4. Drop all the categorical columns.  \n",
    "I also decided to drop customer_id as I decided I would not need it for any of my future calculations.\n",
    "\n",
    "\n",
    "5. Rename all the columns to code-friendly names.  \n",
    "\n",
    " \n"
   ]
  },
  {
   "cell_type": "code",
   "execution_count": 4,
   "id": "9dd03931",
   "metadata": {
    "scrolled": true
   },
   "outputs": [
    {
     "data": {
      "text/html": [
       "<div>\n",
       "<style scoped>\n",
       "    .dataframe tbody tr th:only-of-type {\n",
       "        vertical-align: middle;\n",
       "    }\n",
       "\n",
       "    .dataframe tbody tr th {\n",
       "        vertical-align: top;\n",
       "    }\n",
       "\n",
       "    .dataframe thead th {\n",
       "        text-align: right;\n",
       "    }\n",
       "</style>\n",
       "<table border=\"1\" class=\"dataframe\">\n",
       "  <thead>\n",
       "    <tr style=\"text-align: right;\">\n",
       "      <th></th>\n",
       "      <th>senior_citizen</th>\n",
       "      <th>tenure</th>\n",
       "      <th>monthly_charges</th>\n",
       "      <th>total_charges</th>\n",
       "      <th>is_male</th>\n",
       "      <th>has_partner</th>\n",
       "      <th>has_dependent</th>\n",
       "      <th>has_phone_service</th>\n",
       "      <th>has_paperless_billing</th>\n",
       "      <th>has_churned</th>\n",
       "      <th>multiple_lines_no_phone_service</th>\n",
       "      <th>has_multiple_lines</th>\n",
       "      <th>online_security_no_internet_service</th>\n",
       "      <th>has_online_security</th>\n",
       "      <th>online_backup_no_internet_service</th>\n",
       "      <th>has_online_backup</th>\n",
       "      <th>device_protection_no_internet_service</th>\n",
       "      <th>has_device_protection</th>\n",
       "      <th>tech_support_no_internet_service</th>\n",
       "      <th>has_tech_support</th>\n",
       "      <th>streaming_tv_no_internet_service</th>\n",
       "      <th>has_streaming_tv</th>\n",
       "      <th>internet_service_type_DSL</th>\n",
       "      <th>internet_service_type_fiber_optic</th>\n",
       "      <th>internet_service_type_None</th>\n",
       "      <th>payment_type_bank_transfer_A</th>\n",
       "      <th>payment_type_credit_card_A</th>\n",
       "      <th>payment_type_electronic_check_M</th>\n",
       "      <th>payment_type_mailed_check_M</th>\n",
       "      <th>month_to_month_contract</th>\n",
       "      <th>one_year_contract</th>\n",
       "      <th>two_year_contract</th>\n",
       "    </tr>\n",
       "  </thead>\n",
       "  <tbody>\n",
       "    <tr>\n",
       "      <th>0</th>\n",
       "      <td>0</td>\n",
       "      <td>65</td>\n",
       "      <td>90.45</td>\n",
       "      <td>5957.90</td>\n",
       "      <td>0</td>\n",
       "      <td>1</td>\n",
       "      <td>1</td>\n",
       "      <td>1</td>\n",
       "      <td>1</td>\n",
       "      <td>0</td>\n",
       "      <td>0</td>\n",
       "      <td>1</td>\n",
       "      <td>0</td>\n",
       "      <td>1</td>\n",
       "      <td>0</td>\n",
       "      <td>1</td>\n",
       "      <td>0</td>\n",
       "      <td>1</td>\n",
       "      <td>0</td>\n",
       "      <td>1</td>\n",
       "      <td>0</td>\n",
       "      <td>1</td>\n",
       "      <td>1</td>\n",
       "      <td>0</td>\n",
       "      <td>0</td>\n",
       "      <td>0</td>\n",
       "      <td>0</td>\n",
       "      <td>0</td>\n",
       "      <td>1</td>\n",
       "      <td>0</td>\n",
       "      <td>0</td>\n",
       "      <td>1</td>\n",
       "    </tr>\n",
       "    <tr>\n",
       "      <th>1</th>\n",
       "      <td>0</td>\n",
       "      <td>54</td>\n",
       "      <td>45.20</td>\n",
       "      <td>2460.55</td>\n",
       "      <td>1</td>\n",
       "      <td>0</td>\n",
       "      <td>0</td>\n",
       "      <td>0</td>\n",
       "      <td>0</td>\n",
       "      <td>0</td>\n",
       "      <td>1</td>\n",
       "      <td>0</td>\n",
       "      <td>0</td>\n",
       "      <td>1</td>\n",
       "      <td>0</td>\n",
       "      <td>0</td>\n",
       "      <td>0</td>\n",
       "      <td>0</td>\n",
       "      <td>0</td>\n",
       "      <td>1</td>\n",
       "      <td>0</td>\n",
       "      <td>1</td>\n",
       "      <td>1</td>\n",
       "      <td>0</td>\n",
       "      <td>0</td>\n",
       "      <td>0</td>\n",
       "      <td>1</td>\n",
       "      <td>0</td>\n",
       "      <td>0</td>\n",
       "      <td>0</td>\n",
       "      <td>0</td>\n",
       "      <td>1</td>\n",
       "    </tr>\n",
       "    <tr>\n",
       "      <th>2</th>\n",
       "      <td>0</td>\n",
       "      <td>56</td>\n",
       "      <td>45.05</td>\n",
       "      <td>2560.10</td>\n",
       "      <td>0</td>\n",
       "      <td>0</td>\n",
       "      <td>0</td>\n",
       "      <td>0</td>\n",
       "      <td>0</td>\n",
       "      <td>0</td>\n",
       "      <td>1</td>\n",
       "      <td>0</td>\n",
       "      <td>0</td>\n",
       "      <td>1</td>\n",
       "      <td>0</td>\n",
       "      <td>1</td>\n",
       "      <td>0</td>\n",
       "      <td>1</td>\n",
       "      <td>0</td>\n",
       "      <td>1</td>\n",
       "      <td>0</td>\n",
       "      <td>0</td>\n",
       "      <td>1</td>\n",
       "      <td>0</td>\n",
       "      <td>0</td>\n",
       "      <td>1</td>\n",
       "      <td>0</td>\n",
       "      <td>0</td>\n",
       "      <td>0</td>\n",
       "      <td>0</td>\n",
       "      <td>0</td>\n",
       "      <td>1</td>\n",
       "    </tr>\n",
       "    <tr>\n",
       "      <th>3</th>\n",
       "      <td>0</td>\n",
       "      <td>20</td>\n",
       "      <td>39.40</td>\n",
       "      <td>825.40</td>\n",
       "      <td>1</td>\n",
       "      <td>1</td>\n",
       "      <td>1</td>\n",
       "      <td>0</td>\n",
       "      <td>1</td>\n",
       "      <td>0</td>\n",
       "      <td>1</td>\n",
       "      <td>0</td>\n",
       "      <td>0</td>\n",
       "      <td>1</td>\n",
       "      <td>0</td>\n",
       "      <td>0</td>\n",
       "      <td>0</td>\n",
       "      <td>1</td>\n",
       "      <td>0</td>\n",
       "      <td>1</td>\n",
       "      <td>0</td>\n",
       "      <td>0</td>\n",
       "      <td>1</td>\n",
       "      <td>0</td>\n",
       "      <td>0</td>\n",
       "      <td>0</td>\n",
       "      <td>1</td>\n",
       "      <td>0</td>\n",
       "      <td>0</td>\n",
       "      <td>0</td>\n",
       "      <td>0</td>\n",
       "      <td>1</td>\n",
       "    </tr>\n",
       "    <tr>\n",
       "      <th>4</th>\n",
       "      <td>0</td>\n",
       "      <td>72</td>\n",
       "      <td>85.15</td>\n",
       "      <td>6316.20</td>\n",
       "      <td>1</td>\n",
       "      <td>1</td>\n",
       "      <td>0</td>\n",
       "      <td>1</td>\n",
       "      <td>1</td>\n",
       "      <td>0</td>\n",
       "      <td>0</td>\n",
       "      <td>1</td>\n",
       "      <td>0</td>\n",
       "      <td>0</td>\n",
       "      <td>0</td>\n",
       "      <td>1</td>\n",
       "      <td>0</td>\n",
       "      <td>1</td>\n",
       "      <td>0</td>\n",
       "      <td>1</td>\n",
       "      <td>0</td>\n",
       "      <td>1</td>\n",
       "      <td>1</td>\n",
       "      <td>0</td>\n",
       "      <td>0</td>\n",
       "      <td>1</td>\n",
       "      <td>0</td>\n",
       "      <td>0</td>\n",
       "      <td>0</td>\n",
       "      <td>0</td>\n",
       "      <td>0</td>\n",
       "      <td>1</td>\n",
       "    </tr>\n",
       "  </tbody>\n",
       "</table>\n",
       "</div>"
      ],
      "text/plain": [
       "   senior_citizen  tenure  monthly_charges  total_charges  is_male  \\\n",
       "0               0      65            90.45        5957.90        0   \n",
       "1               0      54            45.20        2460.55        1   \n",
       "2               0      56            45.05        2560.10        0   \n",
       "3               0      20            39.40         825.40        1   \n",
       "4               0      72            85.15        6316.20        1   \n",
       "\n",
       "   has_partner  has_dependent  has_phone_service  has_paperless_billing  \\\n",
       "0            1              1                  1                      1   \n",
       "1            0              0                  0                      0   \n",
       "2            0              0                  0                      0   \n",
       "3            1              1                  0                      1   \n",
       "4            1              0                  1                      1   \n",
       "\n",
       "   has_churned  multiple_lines_no_phone_service  has_multiple_lines  \\\n",
       "0            0                                0                   1   \n",
       "1            0                                1                   0   \n",
       "2            0                                1                   0   \n",
       "3            0                                1                   0   \n",
       "4            0                                0                   1   \n",
       "\n",
       "   online_security_no_internet_service  has_online_security  \\\n",
       "0                                    0                    1   \n",
       "1                                    0                    1   \n",
       "2                                    0                    1   \n",
       "3                                    0                    1   \n",
       "4                                    0                    0   \n",
       "\n",
       "   online_backup_no_internet_service  has_online_backup  \\\n",
       "0                                  0                  1   \n",
       "1                                  0                  0   \n",
       "2                                  0                  1   \n",
       "3                                  0                  0   \n",
       "4                                  0                  1   \n",
       "\n",
       "   device_protection_no_internet_service  has_device_protection  \\\n",
       "0                                      0                      1   \n",
       "1                                      0                      0   \n",
       "2                                      0                      1   \n",
       "3                                      0                      1   \n",
       "4                                      0                      1   \n",
       "\n",
       "   tech_support_no_internet_service  has_tech_support  \\\n",
       "0                                 0                 1   \n",
       "1                                 0                 1   \n",
       "2                                 0                 1   \n",
       "3                                 0                 1   \n",
       "4                                 0                 1   \n",
       "\n",
       "   streaming_tv_no_internet_service  has_streaming_tv  \\\n",
       "0                                 0                 1   \n",
       "1                                 0                 1   \n",
       "2                                 0                 0   \n",
       "3                                 0                 0   \n",
       "4                                 0                 1   \n",
       "\n",
       "   internet_service_type_DSL  internet_service_type_fiber_optic  \\\n",
       "0                          1                                  0   \n",
       "1                          1                                  0   \n",
       "2                          1                                  0   \n",
       "3                          1                                  0   \n",
       "4                          1                                  0   \n",
       "\n",
       "   internet_service_type_None  payment_type_bank_transfer_A  \\\n",
       "0                           0                             0   \n",
       "1                           0                             0   \n",
       "2                           0                             1   \n",
       "3                           0                             0   \n",
       "4                           0                             1   \n",
       "\n",
       "   payment_type_credit_card_A  payment_type_electronic_check_M  \\\n",
       "0                           0                                0   \n",
       "1                           1                                0   \n",
       "2                           0                                0   \n",
       "3                           1                                0   \n",
       "4                           0                                0   \n",
       "\n",
       "   payment_type_mailed_check_M  month_to_month_contract  one_year_contract  \\\n",
       "0                            1                        0                  0   \n",
       "1                            0                        0                  0   \n",
       "2                            0                        0                  0   \n",
       "3                            0                        0                  0   \n",
       "4                            0                        0                  0   \n",
       "\n",
       "   two_year_contract  \n",
       "0                  1  \n",
       "1                  1  \n",
       "2                  1  \n",
       "3                  1  \n",
       "4                  1  "
      ]
     },
     "execution_count": 4,
     "metadata": {},
     "output_type": "execute_result"
    }
   ],
   "source": [
    "telco = wrangle.clean_telco(wrangle.get_telco_data())\n",
    "telco.head()"
   ]
  },
  {
   "cell_type": "markdown",
   "id": "0efdceb4",
   "metadata": {},
   "source": [
    "<hr style=\"border:2px solid blue\"> </hr>\n",
    "\n",
    "# Explore the Train dataset\n",
    "\n",
    "\n",
    "\n"
   ]
  },
  {
   "cell_type": "code",
   "execution_count": 5,
   "id": "34f4387d",
   "metadata": {},
   "outputs": [
    {
     "data": {
      "image/png": "[encoded data removed]",
      "text/plain": [
       "<Figure size 432x288 with 1 Axes>"
      ]
     },
     "metadata": {},
     "output_type": "display_data"
    }
   ],
   "source": [
    "# Define my data and labels\n",
    "data = [(telco.has_churned.value_counts())[0], (telco.has_churned.value_counts())[1]]\n",
    "labels = ['Not Churned', 'Churned']\n",
    "# Create the figures the Pie Chart will be in\n",
    "fig1, ax1 = plt.subplots()\n",
    "# Create the Pie Chart\n",
    "_, _, autopcts = ax1.pie(data,explode= (0, 0.1), labels=labels, autopct='%1.1f%%', shadow=False, startangle=20, colors=('#009999', '#00FFFF'))\n",
    "# Font Settings\n",
    "plt.setp(autopcts, **{'color':'black', 'weight':'bold', 'fontsize':18})\n",
    "# Title settings\n",
    "ax1.set_title('Total Churn', fontdict={'fontsize': 17})\n",
    "plt.show()"
   ]
  },
  {
   "cell_type": "markdown",
   "id": "4663ce50",
   "metadata": {},
   "source": [
    "Questions that you want to answer:\n",
    "1. Are customers with Fiber internet more likely to churn than customers with DSL?\n",
    "2. Are customers who pay manually more likely to churn than customers who pay automatically?\n",
    "3. Do customers who churn have a higher average monthly charge than those who don't?\n",
    "4. Are customers with dependents/partners on thier contract more likely to churn than those without?"
   ]
  },
  {
   "cell_type": "code",
   "execution_count": 6,
   "id": "c237ccca",
   "metadata": {},
   "outputs": [],
   "source": [
    "# Assuming a confidence level of 95% \n",
    "alpha = 0.05"
   ]
  },
  {
   "cell_type": "markdown",
   "id": "bd5669af",
   "metadata": {},
   "source": [
    "1. Is there a relationship between having Fiber Internet and churning?\n",
    "- H<sub>0</sub>: There is no relationship between customers with Fiber Internet and customers who churn\n",
    "- H<sub>a</sub>: There is an relationship between customers with Fiber Internet and customers who churn\n"
   ]
  },
  {
   "cell_type": "code",
   "execution_count": 7,
   "id": "53a36981",
   "metadata": {},
   "outputs": [
    {
     "name": "stdout",
     "output_type": "stream",
     "text": [
      "We reject the null hypothesis\n"
     ]
    }
   ],
   "source": [
    "fiber_churn_observed = pd.crosstab(telco.internet_service_type_fiber_optic, telco.has_churned)\n",
    "\n",
    "chi2, p, degf, expected = stats.chi2_contingency(fiber_churn_observed)\n",
    "\n",
    "if p < alpha:\n",
    "    print(\"We reject the null hypothesis\")\n",
    "\n",
    "else:\n",
    "    print(\"We fail to reject the null hypothesis\")"
   ]
  },
  {
   "cell_type": "markdown",
   "id": "4c9ae1e4",
   "metadata": {},
   "source": [
    ">Conclusion: There is an relationship between customers who have Fiber Internet, and those who have churned \n",
    ">\n",
    ">Takeaway: Customers with Fiber internet might be a good focus.\n",
    "\n",
    "This can also be seen with this chart, comparing churn of internet service:"
   ]
  },
  {
   "cell_type": "code",
   "execution_count": 8,
   "id": "02fce231",
   "metadata": {},
   "outputs": [
    {
     "data": {
      "image/png": "[encoded data removed]",
      "text/plain": [
       "<Figure size 432x288 with 1 Axes>"
      ]
     },
     "metadata": {
      "needs_background": "light"
     },
     "output_type": "display_data"
    }
   ],
   "source": [
    "sns.countplot(x='internet_service_type', hue='churn', data=telco_df, palette=[ '#009999','#00FFFF'])\n",
    "plt.title('Fiber Optic Internet has the Highest Churn')\n",
    "plt.show();"
   ]
  },
  {
   "cell_type": "markdown",
   "id": "03bcda44",
   "metadata": {},
   "source": [
    "2. Is there a relationship between manual pay and churning?\n",
    "\n",
    "A Chi<sup>2</sup> test would be best for this because it compares two categorical columns.\n",
    "- H<sub>0</sub>: There is no relationship between customers manual pay and churning.\n",
    "- H<sub>a</sub>: There is a relationship between customers manual pay and churning.\n"
   ]
  },
  {
   "cell_type": "code",
   "execution_count": 9,
   "id": "7c1680aa",
   "metadata": {},
   "outputs": [
    {
     "name": "stdout",
     "output_type": "stream",
     "text": [
      "We reject the null hypothesis\n"
     ]
    }
   ],
   "source": [
    "# This is a Chi2 test\n",
    "manual_churn_observed = pd.crosstab((telco.payment_type_electronic_check_M + telco.payment_type_mailed_check_M), telco.has_churned)\n",
    "\n",
    "chi2, p, degf, expected = stats.chi2_contingency(manual_churn_observed)\n",
    "\n",
    "if p < alpha:\n",
    "    print(\"We reject the null hypothesis\")\n",
    "\n",
    "else:\n",
    "    print(\"We fail to reject the null hypothesis\")"
   ]
  },
  {
   "cell_type": "markdown",
   "id": "de85ad8f",
   "metadata": {},
   "source": [
    ">Conclusion: There is an relationship between customers who pay Manually, and those who have churned. \n",
    ">\n",
    ">Takeaway: Customers with Manual payment types might be a good focus.\n",
    "\n",
    "This chart shows customers who don't use automatic pay, churn more:"
   ]
  },
  {
   "cell_type": "code",
   "execution_count": 10,
   "id": "09902a4d",
   "metadata": {},
   "outputs": [
    {
     "data": {
      "image/png": "[encoded data removed]",
      "text/plain": [
       "<Figure size 412x360 with 1 Axes>"
      ]
     },
     "metadata": {
      "needs_background": "light"
     },
     "output_type": "display_data"
    }
   ],
   "source": [
    "# looking at churn by payment type\n",
    "sns.catplot(x='payment_type', hue='churn', data=telco_df, orient='horizontal', kind= \"count\", palette=[ '#009999','#00FFFF'])\n",
    "plt.xticks(rotation=45)\n",
    "plt.title(\"Manual Pay has Highest Churn\")\n",
    "plt.xlabel(' ')\n",
    "plt.show();"
   ]
  },
  {
   "cell_type": "markdown",
   "id": "dec6dff4",
   "metadata": {},
   "source": [
    "3. Is the mean of monthly charges of customers who churn significantly higher than the mean across all customers?\n",
    "- H<sub>0</sub>: Mean of monthly charges of churned customers <= mean of monthly charges of all customers\n",
    "\n",
    "- H<sub>a</sub>: Mean of monthly charges of churned customers > mean of monthly charges of all customers \n",
    "\n"
   ]
  },
  {
   "cell_type": "code",
   "execution_count": 11,
   "id": "2b3f12ab",
   "metadata": {},
   "outputs": [
    {
     "name": "stdout",
     "output_type": "stream",
     "text": [
      "We reject the null hypothesis\n"
     ]
    }
   ],
   "source": [
    "# This is a One-Tailed T-Test\n",
    "churn_sample = telco[telco.has_churned == 1].monthly_charges\n",
    "overall_mean = telco.monthly_charges.mean()\n",
    "\n",
    "t, p = stats.ttest_1samp(churn_sample, overall_mean)\n",
    "\n",
    "if p/2 < alpha:\n",
    "    print(\"We reject the null hypothesis\")\n",
    "\n",
    "else:\n",
    "    print(\"We fail to reject the null hypothesis\")"
   ]
  },
  {
   "cell_type": "markdown",
   "id": "4f5b3591",
   "metadata": {},
   "source": [
    ">Conclusion: Customers who churn are charged more than the overall average monthly charges.\n",
    ">\n",
    ">Takeaway: Lowering these high monthly charges should probably be a part of my solution.\n",
    "\n",
    "This chart shows customers who have churned, according to thier monthly charges:"
   ]
  },
  {
   "cell_type": "code",
   "execution_count": 12,
   "id": "3bfaab3e",
   "metadata": {},
   "outputs": [
    {
     "data": {
      "text/plain": [
       "Text(0.5, 0, 'Monthly Charges (USD)')"
      ]
     },
     "execution_count": 12,
     "metadata": {},
     "output_type": "execute_result"
    },
    {
     "data": {
      "image/png": "[encoded data removed]",
      "text/plain": [
       "<Figure size 432x288 with 1 Axes>"
      ]
     },
     "metadata": {
      "needs_background": "light"
     },
     "output_type": "display_data"
    }
   ],
   "source": [
    "sns.histplot(x= telco_df[telco_df.churn== 'Yes'].monthly_charges, color=[\"#009999\"])\n",
    "plt.title('Higher Monthly Charges Churn More')\n",
    "plt.xlabel('Monthly Charges (USD)')"
   ]
  },
  {
   "cell_type": "markdown",
   "id": "ee2db890",
   "metadata": {},
   "source": [
    "4. Is there a relationship between household size and churn?\n",
    "\n",
    "- H<sub>0</sub>: There is no relationship between household size and churning.\n",
    "\n",
    "- H<sub>a</sub>: There is a relationship between household size and churning."
   ]
  },
  {
   "cell_type": "code",
   "execution_count": 13,
   "id": "7392cb7d",
   "metadata": {},
   "outputs": [
    {
     "name": "stdout",
     "output_type": "stream",
     "text": [
      "We reject the null hypothesis\n"
     ]
    }
   ],
   "source": [
    "# Chi2 test\n",
    "size_churn_observed = pd.crosstab((telco.has_partner + telco.has_dependent), telco.has_churned)\n",
    "\n",
    "chi2, p, degf, expected = stats.chi2_contingency(size_churn_observed)\n",
    "\n",
    "if p < alpha:\n",
    "    print(\"We reject the null hypothesis\")\n",
    "\n",
    "else:\n",
    "    print(\"We fail to reject the null hypothesis\")"
   ]
  },
  {
   "cell_type": "code",
   "execution_count": 14,
   "id": "d3847498",
   "metadata": {},
   "outputs": [
    {
     "data": {
      "image/png": "[encoded data removed]",
      "text/plain": [
       "<Figure size 412x360 with 1 Axes>"
      ]
     },
     "metadata": {
      "needs_background": "light"
     },
     "output_type": "display_data"
    },
    {
     "data": {
      "image/png": "[encoded data removed]",
      "text/plain": [
       "<Figure size 412x360 with 1 Axes>"
      ]
     },
     "metadata": {
      "needs_background": "light"
     },
     "output_type": "display_data"
    }
   ],
   "source": [
    "f, axes = plt.subplots(1, 2)\n",
    "sns.catplot(x='partner', hue='churn', data= telco_df,  kind= \"count\", palette=[ '#009999','#00FFFF'], ax= axes[1])\n",
    "sns.catplot(x='dependents', hue='churn', data= telco_df, kind= \"count\", palette=[ '#009999','#00FFFF'], ax = axes[1])\n",
    "plt.close(1)\n"
   ]
  },
  {
   "cell_type": "markdown",
   "id": "7d8ba19b",
   "metadata": {},
   "source": [
    ">Conclusion: There is a relationship between household size and churning.\n",
    ">\n",
    ">Takeaway: I know that there is a relationship, but I could certainly dive further into the details. For example, do customers with dependents churn more than customers without?\n",
    "\n"
   ]
  },
  {
   "cell_type": "markdown",
   "id": "d5119a45",
   "metadata": {},
   "source": [
    "<hr style=\"border:2px solid blue\"> </hr>\n",
    "\n",
    "# Model and Evaluation\n",
    "\n"
   ]
  },
  {
   "cell_type": "code",
   "execution_count": 15,
   "id": "1e0052b0",
   "metadata": {},
   "outputs": [],
   "source": [
    "# Time to split my data for proper modeling:\n",
    "train, validate, test = wrangle.split_this_data(telco)"
   ]
  },
  {
   "cell_type": "markdown",
   "id": "955d73ab",
   "metadata": {},
   "source": [
    "## Baseline Model"
   ]
  },
  {
   "cell_type": "code",
   "execution_count": 16,
   "id": "b6ab55bb",
   "metadata": {},
   "outputs": [
    {
     "data": {
      "text/plain": [
       "0    2897\n",
       "1    1046\n",
       "Name: has_churned, dtype: int64"
      ]
     },
     "execution_count": 16,
     "metadata": {},
     "output_type": "execute_result"
    }
   ],
   "source": [
    "# Finding the most common label in my target variable has_churn:\n",
    "train.has_churned.value_counts()"
   ]
  },
  {
   "cell_type": "code",
   "execution_count": 17,
   "id": "ca5ec1a8",
   "metadata": {},
   "outputs": [
    {
     "name": "stdout",
     "output_type": "stream",
     "text": [
      "baseline accuracy: 73.47%\n"
     ]
    }
   ],
   "source": [
    "# I will use zero as my baseline, since it was my most common label in has_churn\n",
    "# Where zero represents False, \"Did not churn\"\n",
    "train['baseline_prediction'] = 0\n",
    "\n",
    "# Finding my baseline percentage:\n",
    "baseline_accuracy = (train.has_churned == train.baseline_prediction).mean()\n",
    "print(f'baseline accuracy: {baseline_accuracy:.2%}')\n",
    "\n",
    "# Removing the new column since I don't need it once I have my accuracy printed:\n",
    "train = train.drop(['baseline_prediction'],1)"
   ]
  },
  {
   "cell_type": "markdown",
   "id": "77afc14c",
   "metadata": {},
   "source": [
    "#### I want to find a model that does better than my Baseline of 73%"
   ]
  },
  {
   "cell_type": "code",
   "execution_count": 18,
   "id": "70889fca",
   "metadata": {},
   "outputs": [],
   "source": [
    "# Assigning my features to X, and target variable to y, for each split dataframe\n",
    "\n",
    "X_train = train.drop(columns=['has_churned'])\n",
    "y_train = train.has_churned\n",
    "\n",
    "X_validate = validate.drop(columns=['has_churned'])\n",
    "y_validate = validate.has_churned\n",
    "\n",
    "X_test = test.drop(columns=['has_churned'])\n",
    "y_test = test.has_churned"
   ]
  },
  {
   "cell_type": "markdown",
   "id": "7657d728",
   "metadata": {},
   "source": [
    "## Decision Tree"
   ]
  },
  {
   "cell_type": "code",
   "execution_count": 19,
   "id": "3e243810",
   "metadata": {},
   "outputs": [
    {
     "name": "stdout",
     "output_type": "stream",
     "text": [
      "Accuracy of Datasets on Decision Tree Model:\n",
      "Decision Tree on Training: 79.43%\n",
      "Decision Tree on Validate: 78.65%\n",
      "Percent Difference from Baseline: 5.96%\n",
      "\n",
      "Decision Tree Recall: 80.68 %\n",
      "Decision Tree Precision: 94.68 %\n"
     ]
    }
   ],
   "source": [
    "# Create the Decision Tree object with desired hyper-parameters.\n",
    "decision_tree_model = DecisionTreeClassifier(max_depth= 3, random_state= 42)\n",
    "\n",
    "# Fit the model\n",
    "decision_tree_model = decision_tree_model.fit(X_train, y_train)\n",
    "\n",
    "# Have the model make predictions\n",
    "decision_tree_predictions = decision_tree_model.predict(X_train)\n",
    "\n",
    "# Quick Calculations of Precision and Recall \n",
    "TP = confusion_matrix(y_train, decision_tree_predictions)[0][0]\n",
    "FP = confusion_matrix(y_train, decision_tree_predictions)[0][1]\n",
    "FN = confusion_matrix(y_train, decision_tree_predictions)[1][0]\n",
    "precision = TP/(TP+FP)\n",
    "recall = TP/(TP+FN)\n",
    "\n",
    "# Making things easy to read:\n",
    "print('Accuracy of Datasets on Decision Tree Model:\\nDecision Tree on Training: {:.2f}%'\n",
    "      .format((decision_tree_model.score(X_train, y_train)*100)))\n",
    "print('Decision Tree on Validate: {:.2f}%'\n",
    "      .format((decision_tree_model.score(X_validate, y_validate)*100)))\n",
    "print('Percent Difference from Baseline: {:.2f}%'\n",
    "      .format((decision_tree_model.score(X_train, y_train) - baseline_accuracy)*100))\n",
    "\n",
    "print(\"\\nDecision Tree Recall:\", round(recall*100, 2) , \"%\")\n",
    "print(\"Decision Tree Precision:\", round(precision*100, 2) , \"%\")"
   ]
  },
  {
   "cell_type": "markdown",
   "id": "432bff54",
   "metadata": {},
   "source": [
    "## Random Forest"
   ]
  },
  {
   "cell_type": "code",
   "execution_count": 20,
   "id": "3f87c821",
   "metadata": {},
   "outputs": [
    {
     "name": "stdout",
     "output_type": "stream",
     "text": [
      "Accuracy of Datasets on Random Forest Model:\n",
      "Random Forest on Training: 89.20%\n",
      "Random Forest on Validate: 81.37%\n",
      "Percent Difference from Baseline: 15.72%\n",
      "\n",
      "Random Forest Recall: 90.31 %\n",
      "Random Forest Precision: 95.55 %\n"
     ]
    }
   ],
   "source": [
    "# Train the Model\n",
    "random_forest_model = RandomForestClassifier(min_samples_leaf= 1, max_depth= 10, random_state= 42)\n",
    "\n",
    "# Fit the model\n",
    "random_forest_model = random_forest_model.fit(X_train, y_train)\n",
    "\n",
    "# Make Predictions\n",
    "random_forest_predictions = random_forest_model.predict(X_train)\n",
    "\n",
    "# Quick Calculations of Precision and Recall \n",
    "TP = confusion_matrix(y_train, random_forest_predictions)[0][0]\n",
    "FP = confusion_matrix(y_train, random_forest_predictions)[0][1]\n",
    "FN = confusion_matrix(y_train, random_forest_predictions)[1][0]\n",
    "precision = TP/(TP+FP)\n",
    "recall = TP/(TP+FN)\n",
    "\n",
    "# Making things easy to read:\n",
    "print('Accuracy of Datasets on Random Forest Model:\\nRandom Forest on Training: {:.2f}%'\n",
    "      .format((random_forest_model.score(X_train, y_train)*100)))\n",
    "print('Random Forest on Validate: {:.2f}%'\n",
    "      .format((random_forest_model.score(X_validate, y_validate)*100)))\n",
    "print('Percent Difference from Baseline: {:.2f}%'\n",
    "      .format((random_forest_model.score(X_train, y_train) - baseline_accuracy)*100))\n",
    "\n",
    "print(\"\\nRandom Forest Recall:\", round(recall*100, 2) , \"%\")\n",
    "print(\"Random Forest Precision:\", round(precision*100, 2) , \"%\")"
   ]
  },
  {
   "cell_type": "markdown",
   "id": "68db780e",
   "metadata": {},
   "source": [
    "## Logistic Regression"
   ]
  },
  {
   "cell_type": "code",
   "execution_count": 21,
   "id": "d7d0bbcf",
   "metadata": {},
   "outputs": [
    {
     "name": "stdout",
     "output_type": "stream",
     "text": [
      "Accuracy of Datasets on Logistic Regression Model:\n",
      "Logistic Regression on Training: 78.87%\n",
      "Logistic Regression on Validate: 78.00%\n",
      "Percent Difference from Baseline: 5.40%\n",
      "\n",
      "Logistic Regression Recall: 82.74 %\n",
      "Logistic Regression Precision: 90.02 %\n"
     ]
    }
   ],
   "source": [
    "# Create the logistic regression\n",
    "logistic_regression_model = LogisticRegression(random_state= 42)\n",
    "\n",
    "# specify the features to use\n",
    "features = [\"internet_service_type_fiber_optic\", \"has_partner\", \"total_charges\", \"has_phone_service\", \"has_dependent\"]\n",
    "\n",
    "# Fit a model using only these specified features\n",
    "logistic_regression_model.fit(X_train[features], y_train)\n",
    "\n",
    "lr_predictions = logistic_regression_model.predict(X_train[features])\n",
    "\n",
    "# Quick Calculations of Precision and Recall \n",
    "TP = confusion_matrix(y_train, lr_predictions)[0][0]\n",
    "FP = confusion_matrix(y_train, lr_predictions)[0][1]\n",
    "FN = confusion_matrix(y_train, lr_predictions)[1][0]\n",
    "precision = TP/(TP+FP)\n",
    "recall = TP/(TP+FN)\n",
    "\n",
    "# Making things easy to read:\n",
    "print('Accuracy of Datasets on Logistic Regression Model:\\nLogistic Regression on Training: {:.2f}%'\n",
    "      .format((logistic_regression_model.score(X_train[features], y_train)*100)))\n",
    "print('Logistic Regression on Validate: {:.2f}%'\n",
    "      .format((logistic_regression_model.score(X_validate[features], y_validate)*100)))\n",
    "print('Percent Difference from Baseline: {:.2f}%'\n",
    "      .format((logistic_regression_model.score(X_train[features], y_train) - baseline_accuracy)*100))\n",
    "\n",
    "print(\"\\nLogistic Regression Recall:\", round(recall*100, 2) , \"%\")\n",
    "print(\"Logistic Regression Precision:\", round(precision*100, 2) , \"%\")"
   ]
  },
  {
   "cell_type": "markdown",
   "id": "d3078355",
   "metadata": {},
   "source": [
    "## Model Takeaways:\n",
    "All models did better than the Baseline model.\n",
    "\n",
    "### The Precision metric on my Random Forest model had the best preformance. \n",
    "- Validate Dataset Accuracy 81.20%, which is 7.9% higher than Baseline\n",
    "- Precision Approximately 96%  \n",
    "\n",
    "I will use this for my Test Dataset!"
   ]
  },
  {
   "cell_type": "code",
   "execution_count": 22,
   "id": "6a62bab5",
   "metadata": {},
   "outputs": [
    {
     "name": "stdout",
     "output_type": "stream",
     "text": [
      "Random Forest Accuracy on Test data: 78.07%\n",
      "Percent Difference from Baseline: 4.60%\n",
      "Random Forest Precision: 89.95 %\n"
     ]
    }
   ],
   "source": [
    "# Train the Model\n",
    "random_forest_model = RandomForestClassifier(min_samples_leaf= 1, max_depth= 10, random_state= 42)\n",
    "\n",
    "# Fit the model\n",
    "random_forest_model = random_forest_model.fit(X_train, y_train)\n",
    "\n",
    "# Make Predictions from Test data\n",
    "random_forest_predictions = random_forest_model.predict(X_test)\n",
    "\n",
    "# Quick Calculations of Precision \n",
    "TP = confusion_matrix(y_test, random_forest_predictions)[0][0]\n",
    "FP = confusion_matrix(y_test, random_forest_predictions)[0][1]\n",
    "precision = TP/(TP+FP)\n",
    "\n",
    "# Making things easy to read:\n",
    "print('Random Forest Accuracy on Test data: {:.2f}%'\n",
    "      .format((random_forest_model.score(X_test, y_test)*100)))\n",
    "print('Percent Difference from Baseline: {:.2f}%'\n",
    "      .format((random_forest_model.score(X_test, y_test) - baseline_accuracy)*100))\n",
    "print(\"Random Forest Precision:\", round(precision*100, 2) , \"%\")"
   ]
  },
  {
   "cell_type": "markdown",
   "id": "3de5e17a",
   "metadata": {},
   "source": [
    "### Out of curiosity, let's see which features the model valued most..."
   ]
  },
  {
   "cell_type": "code",
   "execution_count": 23,
   "id": "b8959e0c",
   "metadata": {},
   "outputs": [
    {
     "name": "stdout",
     "output_type": "stream",
     "text": [
      "[0.01312977 0.1541367  0.11648778 0.14614777 0.01713467 0.01649381\n",
      " 0.01551457 0.00411664 0.02170367 0.00422316 0.01553539 0.01071739\n",
      " 0.02376386 0.01191535 0.01511344 0.00861381 0.01165896 0.0068925\n",
      " 0.0238163  0.0079455  0.01608938 0.0205456  0.07105508 0.00638324\n",
      " 0.00900003 0.00931185 0.05056382 0.00998295 0.09438851 0.01813048\n",
      " 0.04948802]\n"
     ]
    }
   ],
   "source": [
    "print(random_forest_model.feature_importances_)"
   ]
  },
  {
   "cell_type": "markdown",
   "id": "cf7d9a75",
   "metadata": {},
   "source": [
    "#### The top 5 features valued most\n",
    "1. total_charges 16.02%\n",
    "2. tenure 13.86%\n",
    "3. monthly_charges 12.99%\n",
    "4. month_to_month_contract 10.31%\n",
    "5. internet_service_type_fiber_optic 6.79% \n"
   ]
  },
  {
   "cell_type": "code",
   "execution_count": 24,
   "id": "0482364a",
   "metadata": {},
   "outputs": [
    {
     "data": {
      "text/html": [
       "<div>\n",
       "<style scoped>\n",
       "    .dataframe tbody tr th:only-of-type {\n",
       "        vertical-align: middle;\n",
       "    }\n",
       "\n",
       "    .dataframe tbody tr th {\n",
       "        vertical-align: top;\n",
       "    }\n",
       "\n",
       "    .dataframe thead th {\n",
       "        text-align: right;\n",
       "    }\n",
       "</style>\n",
       "<table border=\"1\" class=\"dataframe\">\n",
       "  <thead>\n",
       "    <tr style=\"text-align: right;\">\n",
       "      <th></th>\n",
       "      <th>Customer ID</th>\n",
       "      <th>Churn Probability</th>\n",
       "      <th>Prediction</th>\n",
       "    </tr>\n",
       "  </thead>\n",
       "  <tbody>\n",
       "    <tr>\n",
       "      <th>0</th>\n",
       "      <td>0016-QLJIS</td>\n",
       "      <td>0.001250</td>\n",
       "      <td>no churn</td>\n",
       "    </tr>\n",
       "    <tr>\n",
       "      <th>1</th>\n",
       "      <td>0017-DINOC</td>\n",
       "      <td>0.530154</td>\n",
       "      <td>CHURN</td>\n",
       "    </tr>\n",
       "    <tr>\n",
       "      <th>2</th>\n",
       "      <td>0019-GFNTW</td>\n",
       "      <td>0.000873</td>\n",
       "      <td>no churn</td>\n",
       "    </tr>\n",
       "    <tr>\n",
       "      <th>3</th>\n",
       "      <td>0056-EPFBG</td>\n",
       "      <td>0.033676</td>\n",
       "      <td>no churn</td>\n",
       "    </tr>\n",
       "    <tr>\n",
       "      <th>4</th>\n",
       "      <td>0078-XZMHT</td>\n",
       "      <td>0.288692</td>\n",
       "      <td>no churn</td>\n",
       "    </tr>\n",
       "    <tr>\n",
       "      <th>5</th>\n",
       "      <td>0114-IGABW</td>\n",
       "      <td>0.007318</td>\n",
       "      <td>no churn</td>\n",
       "    </tr>\n",
       "    <tr>\n",
       "      <th>6</th>\n",
       "      <td>0123-CRBRT</td>\n",
       "      <td>0.767492</td>\n",
       "      <td>CHURN</td>\n",
       "    </tr>\n",
       "    <tr>\n",
       "      <th>7</th>\n",
       "      <td>0191-EQUUH</td>\n",
       "      <td>0.303564</td>\n",
       "      <td>no churn</td>\n",
       "    </tr>\n",
       "    <tr>\n",
       "      <th>8</th>\n",
       "      <td>0214-JHPFW</td>\n",
       "      <td>0.080000</td>\n",
       "      <td>no churn</td>\n",
       "    </tr>\n",
       "    <tr>\n",
       "      <th>9</th>\n",
       "      <td>0229-LFJAF</td>\n",
       "      <td>0.190194</td>\n",
       "      <td>no churn</td>\n",
       "    </tr>\n",
       "  </tbody>\n",
       "</table>\n",
       "</div>"
      ],
      "text/plain": [
       "  Customer ID  Churn Probability Prediction\n",
       "0  0016-QLJIS           0.001250   no churn\n",
       "1  0017-DINOC           0.530154      CHURN\n",
       "2  0019-GFNTW           0.000873   no churn\n",
       "3  0056-EPFBG           0.033676   no churn\n",
       "4  0078-XZMHT           0.288692   no churn\n",
       "5  0114-IGABW           0.007318   no churn\n",
       "6  0123-CRBRT           0.767492      CHURN\n",
       "7  0191-EQUUH           0.303564   no churn\n",
       "8  0214-JHPFW           0.080000   no churn\n",
       "9  0229-LFJAF           0.190194   no churn"
      ]
     },
     "execution_count": 24,
     "metadata": {},
     "output_type": "execute_result"
    }
   ],
   "source": [
    "# Recombine train, validate, and test dataframes\n",
    "telco = pd.concat([train, validate, test], axis=0)\n",
    "\n",
    "# Create dataframe from probability of the Random Forest model, with the Test dataset\n",
    "probability = pd.DataFrame(random_forest_model.predict_proba(X_test), columns=random_forest_model.classes_.tolist())\n",
    "\n",
    "# Rename the probability columns\n",
    "probability = probability.rename(columns={1:'Churn Probability'})\n",
    "\n",
    "# Create a dataframe with the Predictions for whether a customer will churn or not\n",
    "prediction_of_churn = pd.DataFrame({'Prediction' : random_forest_model.predict(X_test)})\n",
    "\n",
    "# Grab my customer id's from original dataframe\n",
    "customer_ids = telco_df['customer_id']\n",
    "\n",
    "# Combine all the dataframes together\n",
    "telco_churn_predictions = pd.concat([customer_ids, probability[\"Churn Probability\"], prediction_of_churn], axis=1)\n",
    "\n",
    "# Rename the customer id column for cleanliness\n",
    "telco_churn_predictions = telco_churn_predictions.rename(columns={\"customer_id\":'Customer ID'})\n",
    "\n",
    "# Change the Predictions from ones and zeros to words\n",
    "telco_churn_predictions.Prediction = telco_churn_predictions.Prediction.replace({0: \"no churn\", 1: \"CHURN\"})\n",
    "\n",
    "telco_churn_predictions.head(10)"
   ]
  },
  {
   "cell_type": "code",
   "execution_count": 25,
   "id": "70916370",
   "metadata": {},
   "outputs": [],
   "source": [
    "# Export prediction dataframe to a csv file\n",
    "telco_churn_predictions.to_csv('predictions.csv')"
   ]
  },
  {
   "cell_type": "markdown",
   "id": "d5f371ce",
   "metadata": {},
   "source": [
    "<hr style=\"border:2px solid blue\"> </hr>\n",
    "\n",
    "# Summary"
   ]
  },
  {
   "cell_type": "markdown",
   "id": "f1f4ba2d",
   "metadata": {},
   "source": [
    "My Random Forest Model Precision was 90%, beating my Baseline accuracy of 73%.\n",
    "\n",
    "If I had more time, I would have liked to have made some loops for testing a variety of hyperparameters for each model to increase accuracy. I would also focus futher on the features that the model found most valuble and see if there was more connections I could find to churn.\n",
    "\n",
    "# Recommendations\n",
    "The data suggest monthly costs are too high, especially for month-to-month customers whom have Fiber Optic Internet. Lowering the cost or suggesting customers switch to DSL Internet would lower churn rate.\n",
    "\n",
    "\n",
    "# Thank You!"
   ]
  }
 ],
 "metadata": {
  "kernelspec": {
   "display_name": "Python 3",
   "language": "python",
   "name": "python3"
  },
  "language_info": {
   "codemirror_mode": {
    "name": "ipython",
    "version": 3
   },
   "file_extension": ".py",
   "mimetype": "text/x-python",
   "name": "python",
   "nbconvert_exporter": "python",
   "pygments_lexer": "ipython3",
   "version": "3.8.8"
  }
 },
 "nbformat": 4,
 "nbformat_minor": 5
}
